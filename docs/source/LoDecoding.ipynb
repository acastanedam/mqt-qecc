{
 "cells": [
  {
   "cell_type": "markdown",
   "metadata": {},
   "source": [
    "# Decoding color codes by turning all lights off\n",
    "\n",
    "Here, we summarize a main use case of the color-code decoder package of the MQT-QECC tool.\n",
    "\n",
    "## Quantum Codes\n",
    "As in classical computing, a quantum code protects information from errors by adding redundancy in a certain way to make the information less fragile. A classical binary code is defined as a vector space s.t. each vector in that space fulfills a set of constraints, called `checks`. For binary codes, the checks of the code are parity checks that determine whether the sum (mod 2) of some entries of a vector is odd or even (equal to 1 or 0). \n",
    "An important class of quantum codes, `CSS` codes can be seen as a certain combination of two classical codes that is, they have two sets of checks. We consider a simple bit-flip noise model in the following, which implies that we can treat both sets of checks equivalently, so we will focus on only a single one for the remainder of this notebook.\n",
    "\n",
    "An example of a quantum code is presented in the following figure.\n",
    "\n",
    "\n",
    "<img src=\"images/cc.png\" alt=\"Triangular color code\" width=\"50%\">\n",
    "\n",
    "This is a quantum color code, that is defined on a three-valent and three-colorable lattice with triangular shape. \n",
    "Each vertex corresponds to a single bit of the code and the checks correspond to the faces, i.e., each face computes the sum (mod 2) of the bits around it. If a vector satisfies all checks, it is a codeword of the code. However, in case an error occurs on a single bit, the checks in which the bit is involved in, i.e., the faces around the vertex of the bit will indicate that the sum is not even anymore, and hence will indicate an error happened. This is illustrated in the following figure for a small triangular color code\n",
    "<img src=\"images/steane-ex.png\" alt=\"Color code example\" width=\"15%\">\n",
    "\n",
    "The decoding task is now, given a set of violated checks, i.e., marked faces, to find a set of bits to flip s.t. no check is violated anymore. In the case of the example above, flipping the bit on the very top of the triangle is a decoding estimate.\n",
    "\n",
    "## LightsOut puzzle\n",
    "\n",
    "We solve the problem of decoding quantum codes by a reduction to the well-known mathematical puzzle `LightsOut`. Originally, the puzzle is defined on a rectangular lattice whose faces correspond to lights that can be turned on or off. Pressing a light toggles the light (from on to off and vice versa) all adjacent lights around it as well. The puzzle starts out in an initial configuration where some lights are turned on and the goal is to find a sequence of lights to press (a seqeuence of `moves` s.t. all lights are turned off), as illustrated in the following figure:\n",
    "\n",
    "<img src=\"images/lo.png\" alt=\"LightsOut puzzle\" width=\"50%\">\n",
    "\n",
    "To show how this can be used to decode a code, consider the following variation where: the faces correspond to lights and the vertices correspond to switches that toggle all lights around them. For the triangular color code, the LightsOut variant and an example of an initial configuration and a solution to the puzzle is given in the following figure\n",
    "\n",
    "<img src=\"images/lights-out.png\" alt=\"LightsOut color code\" width=\"50%\">\n",
    "\n",
    "Our decoder uses a satisfiability formulation (MaxSAT) of the LightsOut puzzle, to find a minimal set of switches that turns off all the lights. \n",
    "\n",
    "\n",
    "## Using QECC to decode quantum codes using the LightsOut solution\n",
    "\n",
    "First, we need to construct a lattice that corresponds to the lattice of the LightsOut puzzle (i.e., the underlying quantum code). For this we use the `HexagonalColorCode` object which constructs a hexagonal lattice with triangular shape as depicted above, given the side length as only parameter.\n",
    "\n"
   ]
  },
  {
   "cell_type": "code",
   "execution_count": null,
   "metadata": {},
   "outputs": [],
   "source": [
    "from mqt.qecc.cc_decoder.hexagonal_color_code import HexagonalColorCode\n",
    "\n",
    "side_length = 3\n",
    "lattice = HexagonalColorCode(3)"
   ]
  },
  {
   "cell_type": "markdown",
   "metadata": {},
   "source": [
    "Then, we using the lattice, we construct a LightsOut puzzle object that consists of adjacency lists of the lattice, as well as the corresponding satisfiablity formulation. In the formulation, each switch and each light corresponds to a Boolean propositional variable and each check is realized as a parity constraint. If no light is turned on initially, all checks have to be equal to 0."
   ]
  },
  {
   "cell_type": "code",
   "execution_count": null,
   "metadata": {},
   "outputs": [],
   "source": [
    "from mqt.qecc.cc_decoder.decoder import LightsOut\n",
    "\n",
    "problem = LightsOut(lattice.faces_to_qubits, lattice.qubits_to_faces)"
   ]
  },
  {
   "cell_type": "markdown",
   "metadata": {},
   "source": [
    "Now we can choose an initial configuration for the puzzle by defining a list that indicates which lights are initially on. Let's say the initial lights are stored in a list `inital_lights`."
   ]
  },
  {
   "cell_type": "code",
   "execution_count": null,
   "metadata": {},
   "outputs": [],
   "source": [
    "import numpy as np\n",
    "\n",
    "initial_lights = np.zeros(7)\n",
    "initial_lights[0] = 1\n",
    "lights = [bool(b == 1) for b in intial_lights]"
   ]
  },
  {
   "cell_type": "markdown",
   "metadata": {},
   "source": [
    "Now we pass this list, together with the MaxSAT solver we want to use (Z3 per default) to the `solve` method, which will set the value of the parity constriants of the faces in the initial configuration accordingly and then call the solver to find a minimal solution set. "
   ]
  },
  {
   "cell_type": "code",
   "execution_count": null,
   "metadata": {},
   "outputs": [],
   "source": [
    "switches, constr_time, solve_time = problem.solve(lights, solver_path=solver_path)"
   ]
  },
  {
   "cell_type": "markdown",
   "metadata": {},
   "source": [
    "the `solve` method returns a set of switches that constitute a solution to the LightsOut puzzle, together with the total time needed to construct the satisfiability formulation and the solving time of the MaxSAT sovler."
   ]
  },
  {
   "cell_type": "markdown",
   "metadata": {},
   "source": [
    "Check out the [reference documentation](https://qecc.readthedocs.io/en/latest) for more information.\n"
   ]
  }
 ],
 "metadata": {
  "kernelspec": {
   "display_name": "Python 3 (ipykernel)",
   "language": "python",
   "name": "python3"
  },
  "language_info": {
   "codemirror_mode": {
    "name": "ipython",
    "version": 3
   },
   "file_extension": ".py",
   "mimetype": "text/x-python",
   "name": "python",
   "nbconvert_exporter": "python",
   "pygments_lexer": "ipython3",
   "version": "3.10.8"
  },
  "widgets": {
   "application/vnd.jupyter.widget-state+json": {
    "state": {},
    "version_major": 2,
    "version_minor": 0
   }
  }
 },
 "nbformat": 4,
 "nbformat_minor": 4
}
